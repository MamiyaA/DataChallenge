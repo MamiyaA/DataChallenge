{
 "cells": [
  {
   "cell_type": "markdown",
   "metadata": {},
   "source": [
    "# What caused the dip in the weekly active users?\n",
    "\n",
    "## Out line of the problem\n",
    "- ### Find what caused the dip in the weekly active users (defined by number of users who logged at least one engagement event during the week)\n",
    "\n",
    "- ### Maximize the return on their time.\n",
    "\n",
    "- ### Evaluate based on core engagement, retention, and growth metric.\n",
    "\n",
    "\n",
    "- ### some notes: number of user with at least one event may not be the right metric. (If we have lots of users doing very little every week, this number will go up. For example, everyone trying out a new product and then few core users using them will results in drop in this number). Also company makes money from the number of company using it. Not the number of users and definitely not with the number of users with at least one event per week. Thus we need to know what type of events were occuring and who were the users that dropped out. Also we want to know what caused the initial increase because that is the most significant event here. One possibility is a free promotion or similar event where lots of users were made at that point, who tried few things and then settled down to the users who use it and users who don't. Number of events per user?\n",
    "\n",
    "\n",
    "\n",
    "## Approach\n",
    "- ### Develop a two-tier classification system that can achieve high accuracy without using too much resourses.\n",
    "\n",
    "- ### First step will focus on achieving high recall with few features. Subjects whose cells were classified as malignant will advance to step two.\n",
    "\n",
    "- ### Second step will focus on increasing accuracy with all features.\n",
    "\n",
    "## Summary\n",
    "- ### First use a logistic regression model that uses only one feature \"Bare Nuclei\" to calculate the probability of the cells being malignant. Categorize all subjects with probability higher than 30% as \"malignant\" to increase recall.\n",
    "\n",
    "- ### For subjects categorized as \"malignant\", use a logistic regression model that uses all the features to accurately cateogorize them."
   ]
  },
  {
   "cell_type": "markdown",
   "metadata": {},
   "source": [
    "## Relevant analyses"
   ]
  },
  {
   "cell_type": "code",
   "execution_count": 1,
   "metadata": {},
   "outputs": [],
   "source": [
    "#Import necessary packages\n",
    "\n",
    "import numpy as np\n",
    "import pandas as pd\n",
    "import os\n",
    "import pickle\n",
    "\n",
    "import matplotlib.pyplot as plt\n",
    "import seaborn as sb\n",
    "color = sb.color_palette()\n",
    "%matplotlib inline\n",
    "\n",
    "from sklearn import preprocessing as pp \n",
    "from scipy.stats import pearsonr\n",
    "from sklearn.linear_model import LogisticRegressionCV\n",
    "from sklearn.metrics import roc_auc_score\n",
    "from sklearn.model_selection import train_test_split\n",
    "from sklearn import metrics"
   ]
  },
  {
   "cell_type": "markdown",
   "metadata": {},
   "source": [
    "### Read in the original data file received. Remove the description and save as an excel file in the data directory. \n",
    "\n",
    "### while inspecting the data, noticed that:\n",
    "\n",
    "- There are missing values.\n",
    "- There are duplicate data.\n",
    "- There are features whose values are larger than 10.\n",
    "\n",
    "### Read in the data:"
   ]
  },
  {
   "cell_type": "code",
   "execution_count": 2,
   "metadata": {},
   "outputs": [],
   "source": [
    "#Read the provided data (after deleting the data description line and saving it as .xlsx) to pandas dataframe\n",
    "current_path = os.getcwd()\n",
    "file = '/datasets/Yammer/dimension_rollup_periods.xlsx'\n",
    "rollup_periods = pd.read_excel(current_path + file)"
   ]
  },
  {
   "cell_type": "code",
   "execution_count": 3,
   "metadata": {},
   "outputs": [
    {
     "data": {
      "text/html": [
       "<div>\n",
       "<style scoped>\n",
       "    .dataframe tbody tr th:only-of-type {\n",
       "        vertical-align: middle;\n",
       "    }\n",
       "\n",
       "    .dataframe tbody tr th {\n",
       "        vertical-align: top;\n",
       "    }\n",
       "\n",
       "    .dataframe thead th {\n",
       "        text-align: right;\n",
       "    }\n",
       "</style>\n",
       "<table border=\"1\" class=\"dataframe\">\n",
       "  <thead>\n",
       "    <tr style=\"text-align: right;\">\n",
       "      <th></th>\n",
       "      <th>period_id</th>\n",
       "      <th>time_id</th>\n",
       "      <th>pst_start</th>\n",
       "      <th>pst_end</th>\n",
       "      <th>utc_start</th>\n",
       "      <th>utc_end</th>\n",
       "    </tr>\n",
       "  </thead>\n",
       "  <tbody>\n",
       "    <tr>\n",
       "      <th>0</th>\n",
       "      <td>1</td>\n",
       "      <td>2013-01-01</td>\n",
       "      <td>2013-01-01</td>\n",
       "      <td>2013-01-02</td>\n",
       "      <td>2013-01-01 08:00:00</td>\n",
       "      <td>2013-01-02 08:00:00</td>\n",
       "    </tr>\n",
       "    <tr>\n",
       "      <th>1</th>\n",
       "      <td>1</td>\n",
       "      <td>2013-01-02</td>\n",
       "      <td>2013-01-02</td>\n",
       "      <td>2013-01-03</td>\n",
       "      <td>2013-01-02 08:00:00</td>\n",
       "      <td>2013-01-03 08:00:00</td>\n",
       "    </tr>\n",
       "    <tr>\n",
       "      <th>2</th>\n",
       "      <td>1</td>\n",
       "      <td>2013-01-03</td>\n",
       "      <td>2013-01-03</td>\n",
       "      <td>2013-01-04</td>\n",
       "      <td>2013-01-03 08:00:00</td>\n",
       "      <td>2013-01-04 08:00:00</td>\n",
       "    </tr>\n",
       "    <tr>\n",
       "      <th>3</th>\n",
       "      <td>1</td>\n",
       "      <td>2013-01-04</td>\n",
       "      <td>2013-01-04</td>\n",
       "      <td>2013-01-05</td>\n",
       "      <td>2013-01-04 08:00:00</td>\n",
       "      <td>2013-01-05 08:00:00</td>\n",
       "    </tr>\n",
       "    <tr>\n",
       "      <th>4</th>\n",
       "      <td>1</td>\n",
       "      <td>2013-01-05</td>\n",
       "      <td>2013-01-05</td>\n",
       "      <td>2013-01-06</td>\n",
       "      <td>2013-01-05 08:00:00</td>\n",
       "      <td>2013-01-06 08:00:00</td>\n",
       "    </tr>\n",
       "  </tbody>\n",
       "</table>\n",
       "</div>"
      ],
      "text/plain": [
       "   period_id    time_id  pst_start    pst_end           utc_start  \\\n",
       "0          1 2013-01-01 2013-01-01 2013-01-02 2013-01-01 08:00:00   \n",
       "1          1 2013-01-02 2013-01-02 2013-01-03 2013-01-02 08:00:00   \n",
       "2          1 2013-01-03 2013-01-03 2013-01-04 2013-01-03 08:00:00   \n",
       "3          1 2013-01-04 2013-01-04 2013-01-05 2013-01-04 08:00:00   \n",
       "4          1 2013-01-05 2013-01-05 2013-01-06 2013-01-05 08:00:00   \n",
       "\n",
       "              utc_end  \n",
       "0 2013-01-02 08:00:00  \n",
       "1 2013-01-03 08:00:00  \n",
       "2 2013-01-04 08:00:00  \n",
       "3 2013-01-05 08:00:00  \n",
       "4 2013-01-06 08:00:00  "
      ]
     },
     "execution_count": 3,
     "metadata": {},
     "output_type": "execute_result"
    }
   ],
   "source": [
    "rollup_periods.head()"
   ]
  },
  {
   "cell_type": "code",
   "execution_count": 4,
   "metadata": {},
   "outputs": [
    {
     "data": {
      "text/html": [
       "<div>\n",
       "<style scoped>\n",
       "    .dataframe tbody tr th:only-of-type {\n",
       "        vertical-align: middle;\n",
       "    }\n",
       "\n",
       "    .dataframe tbody tr th {\n",
       "        vertical-align: top;\n",
       "    }\n",
       "\n",
       "    .dataframe thead th {\n",
       "        text-align: right;\n",
       "    }\n",
       "</style>\n",
       "<table border=\"1\" class=\"dataframe\">\n",
       "  <thead>\n",
       "    <tr style=\"text-align: right;\">\n",
       "      <th></th>\n",
       "      <th>period_id</th>\n",
       "    </tr>\n",
       "  </thead>\n",
       "  <tbody>\n",
       "    <tr>\n",
       "      <th>count</th>\n",
       "      <td>56002.000000</td>\n",
       "    </tr>\n",
       "    <tr>\n",
       "      <th>mean</th>\n",
       "      <td>1920.645227</td>\n",
       "    </tr>\n",
       "    <tr>\n",
       "      <th>std</th>\n",
       "      <td>347.572356</td>\n",
       "    </tr>\n",
       "    <tr>\n",
       "      <th>min</th>\n",
       "      <td>1.000000</td>\n",
       "    </tr>\n",
       "    <tr>\n",
       "      <th>25%</th>\n",
       "      <td>2001.000000</td>\n",
       "    </tr>\n",
       "    <tr>\n",
       "      <th>50%</th>\n",
       "      <td>2001.000000</td>\n",
       "    </tr>\n",
       "    <tr>\n",
       "      <th>75%</th>\n",
       "      <td>2007.000000</td>\n",
       "    </tr>\n",
       "    <tr>\n",
       "      <th>max</th>\n",
       "      <td>2007.000000</td>\n",
       "    </tr>\n",
       "  </tbody>\n",
       "</table>\n",
       "</div>"
      ],
      "text/plain": [
       "          period_id\n",
       "count  56002.000000\n",
       "mean    1920.645227\n",
       "std      347.572356\n",
       "min        1.000000\n",
       "25%     2001.000000\n",
       "50%     2001.000000\n",
       "75%     2007.000000\n",
       "max     2007.000000"
      ]
     },
     "execution_count": 4,
     "metadata": {},
     "output_type": "execute_result"
    }
   ],
   "source": [
    "rollup_periods.describe()"
   ]
  },
  {
   "cell_type": "code",
   "execution_count": 8,
   "metadata": {},
   "outputs": [
    {
     "data": {
      "text/plain": [
       "1"
      ]
     },
     "execution_count": 8,
     "metadata": {},
     "output_type": "execute_result"
    }
   ],
   "source": [
    "rollup_periods.iloc[0,0]"
   ]
  },
  {
   "cell_type": "code",
   "execution_count": 25,
   "metadata": {},
   "outputs": [],
   "source": [
    "data_period=rollup_periods.loc[(rollup_periods['period_id'] == 1007)]"
   ]
  },
  {
   "cell_type": "code",
   "execution_count": 26,
   "metadata": {},
   "outputs": [
    {
     "data": {
      "text/html": [
       "<div>\n",
       "<style scoped>\n",
       "    .dataframe tbody tr th:only-of-type {\n",
       "        vertical-align: middle;\n",
       "    }\n",
       "\n",
       "    .dataframe tbody tr th {\n",
       "        vertical-align: top;\n",
       "    }\n",
       "\n",
       "    .dataframe thead th {\n",
       "        text-align: right;\n",
       "    }\n",
       "</style>\n",
       "<table border=\"1\" class=\"dataframe\">\n",
       "  <thead>\n",
       "    <tr style=\"text-align: right;\">\n",
       "      <th></th>\n",
       "      <th>period_id</th>\n",
       "      <th>time_id</th>\n",
       "      <th>pst_start</th>\n",
       "      <th>pst_end</th>\n",
       "      <th>utc_start</th>\n",
       "      <th>utc_end</th>\n",
       "    </tr>\n",
       "  </thead>\n",
       "  <tbody>\n",
       "    <tr>\n",
       "      <th>1252</th>\n",
       "      <td>1007</td>\n",
       "      <td>2013-01-01</td>\n",
       "      <td>2012-12-25</td>\n",
       "      <td>2013-01-01</td>\n",
       "      <td>2012-12-25 08:00:00</td>\n",
       "      <td>2013-01-01 08:00:00</td>\n",
       "    </tr>\n",
       "    <tr>\n",
       "      <th>1253</th>\n",
       "      <td>1007</td>\n",
       "      <td>2013-01-02</td>\n",
       "      <td>2012-12-26</td>\n",
       "      <td>2013-01-02</td>\n",
       "      <td>2012-12-26 08:00:00</td>\n",
       "      <td>2013-01-02 08:00:00</td>\n",
       "    </tr>\n",
       "    <tr>\n",
       "      <th>1254</th>\n",
       "      <td>1007</td>\n",
       "      <td>2013-01-03</td>\n",
       "      <td>2012-12-27</td>\n",
       "      <td>2013-01-03</td>\n",
       "      <td>2012-12-27 08:00:00</td>\n",
       "      <td>2013-01-03 08:00:00</td>\n",
       "    </tr>\n",
       "    <tr>\n",
       "      <th>1255</th>\n",
       "      <td>1007</td>\n",
       "      <td>2013-01-04</td>\n",
       "      <td>2012-12-28</td>\n",
       "      <td>2013-01-04</td>\n",
       "      <td>2012-12-28 08:00:00</td>\n",
       "      <td>2013-01-04 08:00:00</td>\n",
       "    </tr>\n",
       "    <tr>\n",
       "      <th>1256</th>\n",
       "      <td>1007</td>\n",
       "      <td>2013-01-05</td>\n",
       "      <td>2012-12-29</td>\n",
       "      <td>2013-01-05</td>\n",
       "      <td>2012-12-29 08:00:00</td>\n",
       "      <td>2013-01-05 08:00:00</td>\n",
       "    </tr>\n",
       "  </tbody>\n",
       "</table>\n",
       "</div>"
      ],
      "text/plain": [
       "      period_id    time_id  pst_start    pst_end           utc_start  \\\n",
       "1252       1007 2013-01-01 2012-12-25 2013-01-01 2012-12-25 08:00:00   \n",
       "1253       1007 2013-01-02 2012-12-26 2013-01-02 2012-12-26 08:00:00   \n",
       "1254       1007 2013-01-03 2012-12-27 2013-01-03 2012-12-27 08:00:00   \n",
       "1255       1007 2013-01-04 2012-12-28 2013-01-04 2012-12-28 08:00:00   \n",
       "1256       1007 2013-01-05 2012-12-29 2013-01-05 2012-12-29 08:00:00   \n",
       "\n",
       "                 utc_end  \n",
       "1252 2013-01-01 08:00:00  \n",
       "1253 2013-01-02 08:00:00  \n",
       "1254 2013-01-03 08:00:00  \n",
       "1255 2013-01-04 08:00:00  \n",
       "1256 2013-01-05 08:00:00  "
      ]
     },
     "execution_count": 26,
     "metadata": {},
     "output_type": "execute_result"
    }
   ],
   "source": [
    "data_period.head()"
   ]
  },
  {
   "cell_type": "code",
   "execution_count": 27,
   "metadata": {},
   "outputs": [],
   "source": [
    "mask = (data_period['pst_start'] > '2014-5-1') & (data_period['pst_start'] <= '2014-9-01')\n",
    "#print(data_period.loc[mask])\n"
   ]
  },
  {
   "cell_type": "code",
   "execution_count": 28,
   "metadata": {},
   "outputs": [],
   "source": [
    " selected_period = data_period.loc[mask]"
   ]
  },
  {
   "cell_type": "code",
   "execution_count": 29,
   "metadata": {},
   "outputs": [
    {
     "data": {
      "text/html": [
       "<div>\n",
       "<style scoped>\n",
       "    .dataframe tbody tr th:only-of-type {\n",
       "        vertical-align: middle;\n",
       "    }\n",
       "\n",
       "    .dataframe tbody tr th {\n",
       "        vertical-align: top;\n",
       "    }\n",
       "\n",
       "    .dataframe thead th {\n",
       "        text-align: right;\n",
       "    }\n",
       "</style>\n",
       "<table border=\"1\" class=\"dataframe\">\n",
       "  <thead>\n",
       "    <tr style=\"text-align: right;\">\n",
       "      <th></th>\n",
       "      <th>period_id</th>\n",
       "      <th>time_id</th>\n",
       "      <th>pst_start</th>\n",
       "      <th>pst_end</th>\n",
       "      <th>utc_start</th>\n",
       "      <th>utc_end</th>\n",
       "    </tr>\n",
       "  </thead>\n",
       "  <tbody>\n",
       "    <tr>\n",
       "      <th>1745</th>\n",
       "      <td>1007</td>\n",
       "      <td>2014-05-09</td>\n",
       "      <td>2014-05-02</td>\n",
       "      <td>2014-05-09</td>\n",
       "      <td>2014-05-02 07:00:00</td>\n",
       "      <td>2014-05-09 07:00:00</td>\n",
       "    </tr>\n",
       "    <tr>\n",
       "      <th>1746</th>\n",
       "      <td>1007</td>\n",
       "      <td>2014-05-10</td>\n",
       "      <td>2014-05-03</td>\n",
       "      <td>2014-05-10</td>\n",
       "      <td>2014-05-03 07:00:00</td>\n",
       "      <td>2014-05-10 07:00:00</td>\n",
       "    </tr>\n",
       "    <tr>\n",
       "      <th>1747</th>\n",
       "      <td>1007</td>\n",
       "      <td>2014-05-11</td>\n",
       "      <td>2014-05-04</td>\n",
       "      <td>2014-05-11</td>\n",
       "      <td>2014-05-04 07:00:00</td>\n",
       "      <td>2014-05-11 07:00:00</td>\n",
       "    </tr>\n",
       "    <tr>\n",
       "      <th>1748</th>\n",
       "      <td>1007</td>\n",
       "      <td>2014-05-12</td>\n",
       "      <td>2014-05-05</td>\n",
       "      <td>2014-05-12</td>\n",
       "      <td>2014-05-05 07:00:00</td>\n",
       "      <td>2014-05-12 07:00:00</td>\n",
       "    </tr>\n",
       "    <tr>\n",
       "      <th>1749</th>\n",
       "      <td>1007</td>\n",
       "      <td>2014-05-13</td>\n",
       "      <td>2014-05-06</td>\n",
       "      <td>2014-05-13</td>\n",
       "      <td>2014-05-06 07:00:00</td>\n",
       "      <td>2014-05-13 07:00:00</td>\n",
       "    </tr>\n",
       "  </tbody>\n",
       "</table>\n",
       "</div>"
      ],
      "text/plain": [
       "      period_id    time_id  pst_start    pst_end           utc_start  \\\n",
       "1745       1007 2014-05-09 2014-05-02 2014-05-09 2014-05-02 07:00:00   \n",
       "1746       1007 2014-05-10 2014-05-03 2014-05-10 2014-05-03 07:00:00   \n",
       "1747       1007 2014-05-11 2014-05-04 2014-05-11 2014-05-04 07:00:00   \n",
       "1748       1007 2014-05-12 2014-05-05 2014-05-12 2014-05-05 07:00:00   \n",
       "1749       1007 2014-05-13 2014-05-06 2014-05-13 2014-05-06 07:00:00   \n",
       "\n",
       "                 utc_end  \n",
       "1745 2014-05-09 07:00:00  \n",
       "1746 2014-05-10 07:00:00  \n",
       "1747 2014-05-11 07:00:00  \n",
       "1748 2014-05-12 07:00:00  \n",
       "1749 2014-05-13 07:00:00  "
      ]
     },
     "execution_count": 29,
     "metadata": {},
     "output_type": "execute_result"
    }
   ],
   "source": [
    "selected_period.head()"
   ]
  },
  {
   "cell_type": "code",
   "execution_count": 12,
   "metadata": {},
   "outputs": [],
   "source": [
    "file = '/datasets/Yammer/yammer_events.xlsx'\n",
    "events = pd.read_excel(current_path + file)"
   ]
  },
  {
   "cell_type": "code",
   "execution_count": 30,
   "metadata": {},
   "outputs": [
    {
     "data": {
      "text/html": [
       "<div>\n",
       "<style scoped>\n",
       "    .dataframe tbody tr th:only-of-type {\n",
       "        vertical-align: middle;\n",
       "    }\n",
       "\n",
       "    .dataframe tbody tr th {\n",
       "        vertical-align: top;\n",
       "    }\n",
       "\n",
       "    .dataframe thead th {\n",
       "        text-align: right;\n",
       "    }\n",
       "</style>\n",
       "<table border=\"1\" class=\"dataframe\">\n",
       "  <thead>\n",
       "    <tr style=\"text-align: right;\">\n",
       "      <th></th>\n",
       "      <th>user_id</th>\n",
       "      <th>occurred_at</th>\n",
       "      <th>event_type</th>\n",
       "      <th>event_name</th>\n",
       "      <th>location</th>\n",
       "      <th>device</th>\n",
       "      <th>user_type</th>\n",
       "    </tr>\n",
       "  </thead>\n",
       "  <tbody>\n",
       "    <tr>\n",
       "      <th>0</th>\n",
       "      <td>10522</td>\n",
       "      <td>2014-05-02 11:02:39</td>\n",
       "      <td>engagement</td>\n",
       "      <td>login</td>\n",
       "      <td>Japan</td>\n",
       "      <td>dell inspiron notebook</td>\n",
       "      <td>3.0</td>\n",
       "    </tr>\n",
       "    <tr>\n",
       "      <th>1</th>\n",
       "      <td>10522</td>\n",
       "      <td>2014-05-02 11:02:53</td>\n",
       "      <td>engagement</td>\n",
       "      <td>home_page</td>\n",
       "      <td>Japan</td>\n",
       "      <td>dell inspiron notebook</td>\n",
       "      <td>3.0</td>\n",
       "    </tr>\n",
       "    <tr>\n",
       "      <th>2</th>\n",
       "      <td>10522</td>\n",
       "      <td>2014-05-02 11:03:28</td>\n",
       "      <td>engagement</td>\n",
       "      <td>like_message</td>\n",
       "      <td>Japan</td>\n",
       "      <td>dell inspiron notebook</td>\n",
       "      <td>3.0</td>\n",
       "    </tr>\n",
       "    <tr>\n",
       "      <th>3</th>\n",
       "      <td>10522</td>\n",
       "      <td>2014-05-02 11:04:09</td>\n",
       "      <td>engagement</td>\n",
       "      <td>view_inbox</td>\n",
       "      <td>Japan</td>\n",
       "      <td>dell inspiron notebook</td>\n",
       "      <td>3.0</td>\n",
       "    </tr>\n",
       "    <tr>\n",
       "      <th>4</th>\n",
       "      <td>10522</td>\n",
       "      <td>2014-05-02 11:03:16</td>\n",
       "      <td>engagement</td>\n",
       "      <td>search_run</td>\n",
       "      <td>Japan</td>\n",
       "      <td>dell inspiron notebook</td>\n",
       "      <td>3.0</td>\n",
       "    </tr>\n",
       "  </tbody>\n",
       "</table>\n",
       "</div>"
      ],
      "text/plain": [
       "   user_id         occurred_at  event_type    event_name location  \\\n",
       "0    10522 2014-05-02 11:02:39  engagement         login    Japan   \n",
       "1    10522 2014-05-02 11:02:53  engagement     home_page    Japan   \n",
       "2    10522 2014-05-02 11:03:28  engagement  like_message    Japan   \n",
       "3    10522 2014-05-02 11:04:09  engagement    view_inbox    Japan   \n",
       "4    10522 2014-05-02 11:03:16  engagement    search_run    Japan   \n",
       "\n",
       "                   device  user_type  \n",
       "0  dell inspiron notebook        3.0  \n",
       "1  dell inspiron notebook        3.0  \n",
       "2  dell inspiron notebook        3.0  \n",
       "3  dell inspiron notebook        3.0  \n",
       "4  dell inspiron notebook        3.0  "
      ]
     },
     "execution_count": 30,
     "metadata": {},
     "output_type": "execute_result"
    }
   ],
   "source": [
    "events.head()"
   ]
  },
  {
   "cell_type": "code",
   "execution_count": 33,
   "metadata": {},
   "outputs": [],
   "source": [
    "signup_events=events.loc[events['event_type']=='signup_flow']"
   ]
  },
  {
   "cell_type": "code",
   "execution_count": 34,
   "metadata": {},
   "outputs": [
    {
     "data": {
      "text/html": [
       "<div>\n",
       "<style scoped>\n",
       "    .dataframe tbody tr th:only-of-type {\n",
       "        vertical-align: middle;\n",
       "    }\n",
       "\n",
       "    .dataframe tbody tr th {\n",
       "        vertical-align: top;\n",
       "    }\n",
       "\n",
       "    .dataframe thead th {\n",
       "        text-align: right;\n",
       "    }\n",
       "</style>\n",
       "<table border=\"1\" class=\"dataframe\">\n",
       "  <thead>\n",
       "    <tr style=\"text-align: right;\">\n",
       "      <th></th>\n",
       "      <th>user_id</th>\n",
       "      <th>occurred_at</th>\n",
       "      <th>event_type</th>\n",
       "      <th>event_name</th>\n",
       "      <th>location</th>\n",
       "      <th>device</th>\n",
       "      <th>user_type</th>\n",
       "    </tr>\n",
       "  </thead>\n",
       "  <tbody>\n",
       "    <tr>\n",
       "      <th>391</th>\n",
       "      <td>11768</td>\n",
       "      <td>2014-05-01 08:01:36</td>\n",
       "      <td>signup_flow</td>\n",
       "      <td>create_user</td>\n",
       "      <td>France</td>\n",
       "      <td>macbook pro</td>\n",
       "      <td>NaN</td>\n",
       "    </tr>\n",
       "    <tr>\n",
       "      <th>392</th>\n",
       "      <td>11768</td>\n",
       "      <td>2014-05-01 08:02:06</td>\n",
       "      <td>signup_flow</td>\n",
       "      <td>enter_email</td>\n",
       "      <td>France</td>\n",
       "      <td>macbook pro</td>\n",
       "      <td>NaN</td>\n",
       "    </tr>\n",
       "    <tr>\n",
       "      <th>393</th>\n",
       "      <td>11768</td>\n",
       "      <td>2014-05-01 08:02:39</td>\n",
       "      <td>signup_flow</td>\n",
       "      <td>enter_info</td>\n",
       "      <td>France</td>\n",
       "      <td>macbook pro</td>\n",
       "      <td>NaN</td>\n",
       "    </tr>\n",
       "    <tr>\n",
       "      <th>394</th>\n",
       "      <td>11768</td>\n",
       "      <td>2014-05-01 08:03:12</td>\n",
       "      <td>signup_flow</td>\n",
       "      <td>complete_signup</td>\n",
       "      <td>France</td>\n",
       "      <td>macbook pro</td>\n",
       "      <td>3.0</td>\n",
       "    </tr>\n",
       "    <tr>\n",
       "      <th>401</th>\n",
       "      <td>11769</td>\n",
       "      <td>2014-05-01 02:37:43</td>\n",
       "      <td>signup_flow</td>\n",
       "      <td>create_user</td>\n",
       "      <td>United Kingdom</td>\n",
       "      <td>lenovo thinkpad</td>\n",
       "      <td>NaN</td>\n",
       "    </tr>\n",
       "  </tbody>\n",
       "</table>\n",
       "</div>"
      ],
      "text/plain": [
       "     user_id         occurred_at   event_type       event_name  \\\n",
       "391    11768 2014-05-01 08:01:36  signup_flow      create_user   \n",
       "392    11768 2014-05-01 08:02:06  signup_flow      enter_email   \n",
       "393    11768 2014-05-01 08:02:39  signup_flow       enter_info   \n",
       "394    11768 2014-05-01 08:03:12  signup_flow  complete_signup   \n",
       "401    11769 2014-05-01 02:37:43  signup_flow      create_user   \n",
       "\n",
       "           location           device  user_type  \n",
       "391          France      macbook pro        NaN  \n",
       "392          France      macbook pro        NaN  \n",
       "393          France      macbook pro        NaN  \n",
       "394          France      macbook pro        3.0  \n",
       "401  United Kingdom  lenovo thinkpad        NaN  "
      ]
     },
     "execution_count": 34,
     "metadata": {},
     "output_type": "execute_result"
    }
   ],
   "source": [
    "signup_events.head()"
   ]
  },
  {
   "cell_type": "code",
   "execution_count": 35,
   "metadata": {},
   "outputs": [
    {
     "data": {
      "text/html": [
       "<div>\n",
       "<style scoped>\n",
       "    .dataframe tbody tr th:only-of-type {\n",
       "        vertical-align: middle;\n",
       "    }\n",
       "\n",
       "    .dataframe tbody tr th {\n",
       "        vertical-align: top;\n",
       "    }\n",
       "\n",
       "    .dataframe thead th {\n",
       "        text-align: right;\n",
       "    }\n",
       "</style>\n",
       "<table border=\"1\" class=\"dataframe\">\n",
       "  <thead>\n",
       "    <tr style=\"text-align: right;\">\n",
       "      <th></th>\n",
       "      <th>user_id</th>\n",
       "      <th>user_type</th>\n",
       "    </tr>\n",
       "  </thead>\n",
       "  <tbody>\n",
       "    <tr>\n",
       "      <th>count</th>\n",
       "      <td>19257.000000</td>\n",
       "      <td>3680.000000</td>\n",
       "    </tr>\n",
       "    <tr>\n",
       "      <th>mean</th>\n",
       "      <td>15431.248377</td>\n",
       "      <td>2.224185</td>\n",
       "    </tr>\n",
       "    <tr>\n",
       "      <th>std</th>\n",
       "      <td>2105.927922</td>\n",
       "      <td>0.810714</td>\n",
       "    </tr>\n",
       "    <tr>\n",
       "      <th>min</th>\n",
       "      <td>11768.000000</td>\n",
       "      <td>1.000000</td>\n",
       "    </tr>\n",
       "    <tr>\n",
       "      <th>25%</th>\n",
       "      <td>13612.000000</td>\n",
       "      <td>2.000000</td>\n",
       "    </tr>\n",
       "    <tr>\n",
       "      <th>50%</th>\n",
       "      <td>15430.000000</td>\n",
       "      <td>2.000000</td>\n",
       "    </tr>\n",
       "    <tr>\n",
       "      <th>75%</th>\n",
       "      <td>17260.000000</td>\n",
       "      <td>3.000000</td>\n",
       "    </tr>\n",
       "    <tr>\n",
       "      <th>max</th>\n",
       "      <td>19065.000000</td>\n",
       "      <td>3.000000</td>\n",
       "    </tr>\n",
       "  </tbody>\n",
       "</table>\n",
       "</div>"
      ],
      "text/plain": [
       "            user_id    user_type\n",
       "count  19257.000000  3680.000000\n",
       "mean   15431.248377     2.224185\n",
       "std     2105.927922     0.810714\n",
       "min    11768.000000     1.000000\n",
       "25%    13612.000000     2.000000\n",
       "50%    15430.000000     2.000000\n",
       "75%    17260.000000     3.000000\n",
       "max    19065.000000     3.000000"
      ]
     },
     "execution_count": 35,
     "metadata": {},
     "output_type": "execute_result"
    }
   ],
   "source": [
    "signup_events.describe()"
   ]
  },
  {
   "cell_type": "code",
   "execution_count": 130,
   "metadata": {},
   "outputs": [],
   "source": [
    "#Change the data type to float. Any non-numeric values will become NaN\n",
    "original_data_numeric = pd.DataFrame().reindex_like(original_data)\n",
    "\n",
    "#Run a for loop to change each column to float type\n",
    "for index in range(original_data.shape[1]):\n",
    "   \n",
    "   # Select column by index position using iloc[]\n",
    "    original_data_numeric.iloc[:,index] = (pd.to_numeric(original_data.iloc[:,index], errors='coerce'))\n"
   ]
  },
  {
   "cell_type": "markdown",
   "metadata": {},
   "source": [
    "### Remove rows with missing values"
   ]
  },
  {
   "cell_type": "code",
   "execution_count": 132,
   "metadata": {},
   "outputs": [],
   "source": [
    "#drop all rows that contain NaN for now.\n",
    "data_without_nan = original_data_numeric.dropna()\n",
    "#Use 'index' as row index.\n",
    "data_without_nan = data_without_nan.set_index('index')"
   ]
  },
  {
   "cell_type": "markdown",
   "metadata": {},
   "source": [
    "### Remove duplicate data"
   ]
  },
  {
   "cell_type": "code",
   "execution_count": 133,
   "metadata": {},
   "outputs": [],
   "source": [
    "#remove duplicate rows (use the first one as unique)\n",
    "data_without_nan.drop_duplicates(inplace = True) "
   ]
  },
  {
   "cell_type": "markdown",
   "metadata": {},
   "source": [
    "### Remove data that's out of range"
   ]
  },
  {
   "cell_type": "code",
   "execution_count": 134,
   "metadata": {},
   "outputs": [],
   "source": [
    "#Some values are going above the 10. Chose rows that have values equal to or less than 10.\n",
    "\n",
    "data_without_nan_filtered = data_without_nan[(data_without_nan['Clump Thickness'] <= 10) & (data_without_nan['Uniformity of Cell Size'] <= 10)] \n",
    "\n"
   ]
  },
  {
   "cell_type": "markdown",
   "metadata": {},
   "source": [
    "### Distribution of the features are skewed. Log transform them to bring it closer to normal distribution"
   ]
  },
  {
   "cell_type": "code",
   "execution_count": 137,
   "metadata": {},
   "outputs": [],
   "source": [
    "features = data_without_nan_filtered.iloc[:,1:10]\n",
    "transformed_features = features.apply(np.log)"
   ]
  },
  {
   "cell_type": "markdown",
   "metadata": {},
   "source": [
    "### Standardize the features (subtract mean and divide by the standard deviation)"
   ]
  },
  {
   "cell_type": "code",
   "execution_count": 138,
   "metadata": {},
   "outputs": [],
   "source": [
    "scaler_feature = pp.StandardScaler().fit(transformed_features)\n",
    "transformed_features_normalized = scaler_feature.transform(transformed_features)\n",
    "transformed_features_normalizedDF = pd.DataFrame(data=transformed_features_normalized)\n"
   ]
  },
  {
   "cell_type": "markdown",
   "metadata": {},
   "source": [
    "### Build logistic regression model using all the features. Aim for high accuracy"
   ]
  },
  {
   "cell_type": "code",
   "execution_count": 144,
   "metadata": {},
   "outputs": [
    {
     "name": "stdout",
     "output_type": "stream",
     "text": [
      "0.9777777777777777\n"
     ]
    }
   ],
   "source": [
    "cancer_state = data_without_nan_filtered.iloc[:,10]\n",
    "\n",
    "X_train, X_test, y_train, y_test = train_test_split(transformed_features_normalizedDF, cancer_state, test_size = 0.2,stratify=cancer_state)\n",
    "\n",
    "clf = LogisticRegressionCV(cv=5).fit(X_train, y_train)\n",
    "predicted_label = clf.predict(X_test)\n",
    "    \n",
    "score = clf.score(X_test, y_test)\n",
    "#accuracy score\n",
    "print(score)  "
   ]
  },
  {
   "cell_type": "code",
   "execution_count": 165,
   "metadata": {},
   "outputs": [
    {
     "name": "stdout",
     "output_type": "stream",
     "text": [
      "[[86  2]\n",
      " [ 1 46]]\n"
     ]
    }
   ],
   "source": [
    "print(metrics.confusion_matrix(y_test, predicted_label))"
   ]
  },
  {
   "cell_type": "markdown",
   "metadata": {},
   "source": [
    "### Inspect the coefficients in this model to identify a feature with the highest predictive value. Identify that a feature \"Bare Nuclei\" has the highest coefficient."
   ]
  },
  {
   "cell_type": "code",
   "execution_count": 145,
   "metadata": {},
   "outputs": [
    {
     "data": {
      "text/plain": [
       "array([[0.90388066, 0.674033  , 0.8716097 , 0.31240304, 0.27714243,\n",
       "        1.03896015, 0.72251143, 0.51586553, 0.49034507]])"
      ]
     },
     "execution_count": 145,
     "metadata": {},
     "output_type": "execute_result"
    }
   ],
   "source": [
    "clf.coef_"
   ]
  },
  {
   "cell_type": "markdown",
   "metadata": {},
   "source": [
    "### Test a logist regression model with just \"Bare Nuclei\" and see how accurate it is. "
   ]
  },
  {
   "cell_type": "code",
   "execution_count": 150,
   "metadata": {},
   "outputs": [
    {
     "name": "stdout",
     "output_type": "stream",
     "text": [
      "0.9259259259259259\n"
     ]
    }
   ],
   "source": [
    "X_train2, X_test2, y_train2, y_test2 = train_test_split(transformed_features_normalizedDF.iloc[:,5:6], cancer_state, test_size = 0.2,stratify=cancer_state)\n",
    "\n",
    "clf2 = LogisticRegressionCV(cv=5).fit(X_train2, y_train2)\n",
    "predicted_label2 = clf2.predict(X_test2)\n",
    "    \n",
    "score2 = clf2.score(X_test2, y_test2)\n",
    "print(score2)    "
   ]
  },
  {
   "cell_type": "markdown",
   "metadata": {},
   "source": [
    "### Accuracy of 92.5 % is close to the accuracy of the full model. Check the confusion matrix to see how many false negatives we have. "
   ]
  },
  {
   "cell_type": "code",
   "execution_count": 151,
   "metadata": {},
   "outputs": [
    {
     "name": "stdout",
     "output_type": "stream",
     "text": [
      "[[84  4]\n",
      " [ 6 41]]\n"
     ]
    }
   ],
   "source": [
    "print(metrics.confusion_matrix(y_test2, predicted_label2))"
   ]
  },
  {
   "cell_type": "markdown",
   "metadata": {},
   "source": [
    "### Check the predicted probability of the each test data and see if any of the 4 false negatives were close to becoming positive (default categorization probability of 0.5)"
   ]
  },
  {
   "cell_type": "code",
   "execution_count": 152,
   "metadata": {},
   "outputs": [
    {
     "data": {
      "text/plain": [
       "array([[<matplotlib.axes._subplots.AxesSubplot object at 0x7f7b547fc1d0>]],\n",
       "      dtype=object)"
      ]
     },
     "execution_count": 152,
     "metadata": {},
     "output_type": "execute_result"
    },
    {
     "data": {
      "image/png": "[encoded data removed]",
      "text/plain": [
       "<Figure size 432x288 with 1 Axes>"
      ]
     },
     "metadata": {
      "needs_background": "light"
     },
     "output_type": "display_data"
    }
   ],
   "source": [
    "predicted_proba2 = clf2.predict_proba(X_test2)\n",
    "predicted_proba2_df = pd.DataFrame(data=predicted_proba2[y_test2 == 2.0,0])\n",
    "predicted_proba2_df.hist()"
   ]
  },
  {
   "cell_type": "markdown",
   "metadata": {},
   "source": [
    "### Detailed inspection of the probability shows that decreasing the categorization threshold to 0.3 will reduce the false negative to zero in this particular test set, at the expense of increasing the falst postive by 10."
   ]
  },
  {
   "cell_type": "code",
   "execution_count": 153,
   "metadata": {},
   "outputs": [
    {
     "data": {
      "text/plain": [
       "array([0.72739015, 0.90242259, 0.90242259, 0.90242259, 0.56323553,\n",
       "       0.90242259, 0.56323553, 0.90242259, 0.90242259, 0.34034528,\n",
       "       0.90242259, 0.90242259, 0.90242259, 0.90242259, 0.90242259,\n",
       "       0.90242259, 0.90242259, 0.90242259, 0.90242259, 0.90242259,\n",
       "       0.90242259, 0.90242259, 0.90242259, 0.90242259, 0.90242259,\n",
       "       0.90242259, 0.72739015, 0.90242259, 0.90242259, 0.90242259,\n",
       "       0.90242259, 0.90242259, 0.34034528, 0.90242259, 0.90242259,\n",
       "       0.90242259, 0.90242259, 0.90242259, 0.90242259, 0.90242259,\n",
       "       0.90242259, 0.90242259, 0.90242259, 0.90242259, 0.90242259,\n",
       "       0.34034528, 0.90242259, 0.90242259, 0.72739015, 0.90242259,\n",
       "       0.90242259, 0.90242259, 0.90242259, 0.90242259, 0.90242259,\n",
       "       0.90242259, 0.90242259, 0.90242259, 0.34034528, 0.90242259,\n",
       "       0.90242259, 0.90242259, 0.72739015, 0.90242259, 0.90242259,\n",
       "       0.90242259, 0.90242259, 0.90242259, 0.90242259, 0.90242259,\n",
       "       0.90242259, 0.90242259, 0.90242259, 0.90242259, 0.90242259,\n",
       "       0.90242259, 0.90242259, 0.90242259, 0.90242259, 0.90242259,\n",
       "       0.90242259, 0.90242259, 0.90242259, 0.90242259, 0.90242259,\n",
       "       0.56323553, 0.90242259, 0.90242259])"
      ]
     },
     "execution_count": 153,
     "metadata": {},
     "output_type": "execute_result"
    }
   ],
   "source": [
    "predicted_proba2[y_test2 == 2.0,0]"
   ]
  },
  {
   "cell_type": "code",
   "execution_count": 154,
   "metadata": {},
   "outputs": [
    {
     "data": {
      "text/plain": [
       "array([0.12956938, 0.12956938, 0.34034528, 0.18173898, 0.12956938,\n",
       "       0.72739015, 0.12956938, 0.12956938, 0.12956938, 0.12956938,\n",
       "       0.12956938, 0.12956938, 0.12956938, 0.34034528, 0.22008878,\n",
       "       0.34034528, 0.12956938, 0.56323553, 0.12956938, 0.12956938,\n",
       "       0.34034528, 0.34034528, 0.12956938, 0.56323553, 0.34034528,\n",
       "       0.34034528, 0.12956938, 0.34034528, 0.12956938, 0.12956938,\n",
       "       0.12956938, 0.90242259, 0.90242259, 0.15240915, 0.15240915,\n",
       "       0.90242259, 0.12956938, 0.22008878, 0.12956938, 0.12956938,\n",
       "       0.27116659, 0.12956938, 0.12956938, 0.12956938, 0.43497184,\n",
       "       0.18173898, 0.43497184])"
      ]
     },
     "execution_count": 154,
     "metadata": {},
     "output_type": "execute_result"
    }
   ],
   "source": [
    "predicted_proba2[y_test2 == 4.0,0]"
   ]
  },
  {
   "cell_type": "markdown",
   "metadata": {},
   "source": [
    "### For subjects above the probability of 0.3, run a second round of classification using the second model. Now there is only one false positive and one false negative."
   ]
  },
  {
   "cell_type": "code",
   "execution_count": 170,
   "metadata": {},
   "outputs": [
    {
     "name": "stdout",
     "output_type": "stream",
     "text": [
      "[[87  1]\n",
      " [ 1 15]]\n"
     ]
    }
   ],
   "source": [
    "#Select the subjects that would go into the second round if we set the threshold at 0.3 probability\n",
    "X_test3 = X_test2.loc[predicted_proba2[:,0]>0.3]\n",
    "y_test3 = y_test2.loc[predicted_proba2[:,0]>0.3]\n",
    "\n",
    "#Select the full features for those subjects.\n",
    "X_test3_full = transformed_features_normalizedDF[transformed_features_normalizedDF.index.isin(X_test3.index)]\n",
    "\n",
    "#sort the y_test3 values based on the index (because the X_test3_full will be sorted according to the index)\n",
    "y_test3.sort_index(inplace=True)\n",
    "#prediction for those subjects using the full model.\n",
    "predicted_label3 = clf.predict(X_test3_full)\n",
    "print(metrics.confusion_matrix(y_test3, predicted_label3))"
   ]
  },
  {
   "cell_type": "markdown",
   "metadata": {},
   "source": [
    "## Results\n",
    "\n",
    "- ### By using two tier logistic regression model, doctors can reduce the cost of testing by measuring only one feature for the majority of subjects, while still maintaining high accuracy of the test.\n",
    "\n",
    "- ### In the first step, the doctors will just use \"Bare Nuclei\" feature and use logistic regression with the threshold of 30% probability to identify potentially malignant cells.\n",
    "\n",
    "- ### In the second step, the doctors will use all features to maximize the accuracy.\n",
    "\n",
    "## Future directions\n",
    "\n",
    "- ### Try to reduce the number of features in the full feature model to see if we can maintain the accuracy with less feature"
   ]
  }
 ],
 "metadata": {
  "anaconda-cloud": {},
  "kernelspec": {
   "display_name": "Python 3",
   "language": "python",
   "name": "python3"
  },
  "language_info": {
   "codemirror_mode": {
    "name": "ipython",
    "version": 3
   },
   "file_extension": ".py",
   "mimetype": "text/x-python",
   "name": "python",
   "nbconvert_exporter": "python",
   "pygments_lexer": "ipython3",
   "version": "3.6.10"
  }
 },
 "nbformat": 4,
 "nbformat_minor": 2
}
